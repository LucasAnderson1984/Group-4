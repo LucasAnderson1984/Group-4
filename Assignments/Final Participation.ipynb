{
 "cells": [
  {
   "cell_type": "markdown",
   "metadata": {},
   "source": [
    "## Data Scrubbing"
   ]
  },
  {
   "cell_type": "code",
   "execution_count": 1,
   "metadata": {},
   "outputs": [
    {
     "data": {
      "text/html": [
       "<div>\n",
       "<style scoped>\n",
       "    .dataframe tbody tr th:only-of-type {\n",
       "        vertical-align: middle;\n",
       "    }\n",
       "\n",
       "    .dataframe tbody tr th {\n",
       "        vertical-align: top;\n",
       "    }\n",
       "\n",
       "    .dataframe thead th {\n",
       "        text-align: right;\n",
       "    }\n",
       "</style>\n",
       "<table border=\"1\" class=\"dataframe\">\n",
       "  <thead>\n",
       "    <tr style=\"text-align: right;\">\n",
       "      <th></th>\n",
       "      <th>PassengerId</th>\n",
       "      <th>Survived</th>\n",
       "      <th>Pclass</th>\n",
       "      <th>Name</th>\n",
       "      <th>Sex</th>\n",
       "      <th>Age</th>\n",
       "      <th>SibSp</th>\n",
       "      <th>Parch</th>\n",
       "      <th>Ticket</th>\n",
       "      <th>Fare</th>\n",
       "      <th>Cabin</th>\n",
       "      <th>Embarked</th>\n",
       "      <th>AgeGroup</th>\n",
       "      <th>Title</th>\n",
       "      <th>FamilySize</th>\n",
       "      <th>TitleGroup</th>\n",
       "      <th>TicketSize</th>\n",
       "    </tr>\n",
       "  </thead>\n",
       "  <tbody>\n",
       "    <tr>\n",
       "      <th>0</th>\n",
       "      <td>1</td>\n",
       "      <td>0</td>\n",
       "      <td>3</td>\n",
       "      <td>Braund, Mr. Owen Harris</td>\n",
       "      <td>0</td>\n",
       "      <td>22.0</td>\n",
       "      <td>1</td>\n",
       "      <td>0</td>\n",
       "      <td>A/5 21171</td>\n",
       "      <td>7.2500</td>\n",
       "      <td>NaN</td>\n",
       "      <td>0</td>\n",
       "      <td>2</td>\n",
       "      <td>Mr</td>\n",
       "      <td>1</td>\n",
       "      <td>0</td>\n",
       "      <td>0</td>\n",
       "    </tr>\n",
       "    <tr>\n",
       "      <th>1</th>\n",
       "      <td>2</td>\n",
       "      <td>1</td>\n",
       "      <td>1</td>\n",
       "      <td>Cumings, Mrs. John Bradley (Florence Briggs Th...</td>\n",
       "      <td>1</td>\n",
       "      <td>38.0</td>\n",
       "      <td>1</td>\n",
       "      <td>0</td>\n",
       "      <td>PC 17599</td>\n",
       "      <td>71.2833</td>\n",
       "      <td>C85</td>\n",
       "      <td>1</td>\n",
       "      <td>2</td>\n",
       "      <td>Mrs</td>\n",
       "      <td>1</td>\n",
       "      <td>2</td>\n",
       "      <td>0</td>\n",
       "    </tr>\n",
       "    <tr>\n",
       "      <th>2</th>\n",
       "      <td>3</td>\n",
       "      <td>1</td>\n",
       "      <td>3</td>\n",
       "      <td>Heikkinen, Miss. Laina</td>\n",
       "      <td>1</td>\n",
       "      <td>26.0</td>\n",
       "      <td>0</td>\n",
       "      <td>0</td>\n",
       "      <td>STON/O2. 3101282</td>\n",
       "      <td>7.9250</td>\n",
       "      <td>NaN</td>\n",
       "      <td>0</td>\n",
       "      <td>2</td>\n",
       "      <td>Miss</td>\n",
       "      <td>0</td>\n",
       "      <td>1</td>\n",
       "      <td>0</td>\n",
       "    </tr>\n",
       "    <tr>\n",
       "      <th>3</th>\n",
       "      <td>4</td>\n",
       "      <td>1</td>\n",
       "      <td>1</td>\n",
       "      <td>Futrelle, Mrs. Jacques Heath (Lily May Peel)</td>\n",
       "      <td>1</td>\n",
       "      <td>35.0</td>\n",
       "      <td>1</td>\n",
       "      <td>0</td>\n",
       "      <td>113803</td>\n",
       "      <td>53.1000</td>\n",
       "      <td>C123</td>\n",
       "      <td>0</td>\n",
       "      <td>2</td>\n",
       "      <td>Mrs</td>\n",
       "      <td>1</td>\n",
       "      <td>2</td>\n",
       "      <td>1</td>\n",
       "    </tr>\n",
       "    <tr>\n",
       "      <th>4</th>\n",
       "      <td>5</td>\n",
       "      <td>0</td>\n",
       "      <td>3</td>\n",
       "      <td>Allen, Mr. William Henry</td>\n",
       "      <td>0</td>\n",
       "      <td>35.0</td>\n",
       "      <td>0</td>\n",
       "      <td>0</td>\n",
       "      <td>373450</td>\n",
       "      <td>8.0500</td>\n",
       "      <td>NaN</td>\n",
       "      <td>0</td>\n",
       "      <td>2</td>\n",
       "      <td>Mr</td>\n",
       "      <td>0</td>\n",
       "      <td>0</td>\n",
       "      <td>0</td>\n",
       "    </tr>\n",
       "  </tbody>\n",
       "</table>\n",
       "</div>"
      ],
      "text/plain": [
       "   PassengerId  Survived  Pclass  \\\n",
       "0            1         0       3   \n",
       "1            2         1       1   \n",
       "2            3         1       3   \n",
       "3            4         1       1   \n",
       "4            5         0       3   \n",
       "\n",
       "                                                Name  Sex   Age  SibSp  Parch  \\\n",
       "0                            Braund, Mr. Owen Harris    0  22.0      1      0   \n",
       "1  Cumings, Mrs. John Bradley (Florence Briggs Th...    1  38.0      1      0   \n",
       "2                             Heikkinen, Miss. Laina    1  26.0      0      0   \n",
       "3       Futrelle, Mrs. Jacques Heath (Lily May Peel)    1  35.0      1      0   \n",
       "4                           Allen, Mr. William Henry    0  35.0      0      0   \n",
       "\n",
       "             Ticket     Fare Cabin  Embarked  AgeGroup Title  FamilySize  \\\n",
       "0         A/5 21171   7.2500   NaN         0         2    Mr           1   \n",
       "1          PC 17599  71.2833   C85         1         2   Mrs           1   \n",
       "2  STON/O2. 3101282   7.9250   NaN         0         2  Miss           0   \n",
       "3            113803  53.1000  C123         0         2   Mrs           1   \n",
       "4            373450   8.0500   NaN         0         2    Mr           0   \n",
       "\n",
       "   TitleGroup  TicketSize  \n",
       "0           0           0  \n",
       "1           2           0  \n",
       "2           1           0  \n",
       "3           2           1  \n",
       "4           0           0  "
      ]
     },
     "execution_count": 1,
     "metadata": {},
     "output_type": "execute_result"
    }
   ],
   "source": [
    "import numpy as np\n",
    "import pandas as pd\n",
    "\n",
    "input_file = \"./train.csv\"\n",
    "\n",
    "def AgeGroup(x):\n",
    "    if x < 13:\n",
    "        return 0\n",
    "    elif x < 18:\n",
    "        return 1\n",
    "    elif x < 60:\n",
    "        return 2\n",
    "    else:\n",
    "        return 3\n",
    "\n",
    "def Embark(x):\n",
    "    if x == 'S':\n",
    "        return 0\n",
    "    elif x == 'C':\n",
    "        return 1\n",
    "    elif x == 'Q':\n",
    "        return 2\n",
    "    else:\n",
    "        return x\n",
    "    \n",
    "def FamilySize(x):\n",
    "    if x == 1:\n",
    "        return 0\n",
    "    elif x < 5:\n",
    "        return 1\n",
    "    else:\n",
    "        return 2\n",
    "    \n",
    "def Title(x):\n",
    "    if x == 'Mlle':\n",
    "        return 'Miss'\n",
    "    elif x == 'Ms':\n",
    "        return 'Miss'\n",
    "    elif x == 'Mme':\n",
    "        return 'Mrs'\n",
    "    elif x == 'Lady':\n",
    "        return 'Miss'\n",
    "    elif x  == 'Dona':\n",
    "        return 'Miss'\n",
    "    elif x  == 'Capt':\n",
    "        return 'Officer'\n",
    "    elif x == 'Col':\n",
    "        return 'Officer'\n",
    "    elif x == 'Major':\n",
    "        return 'Officer'\n",
    "    elif x == 'Dr':\n",
    "        return 'Officer'\n",
    "    elif x == 'Rev':\n",
    "        return 'Officer'\n",
    "    elif x == 'Don':\n",
    "        return 'Officer'\n",
    "    elif x == 'Sir':\n",
    "        return 'Officer'\n",
    "    elif x == 'the Countess':\n",
    "        return 'Officer'\n",
    "    elif x == 'Jonkheer':\n",
    "        return 'Officer'\n",
    "    else:\n",
    "        return x\n",
    "    \n",
    "def TitleGroup(x):\n",
    "    if x == 'Mr':\n",
    "        return 0\n",
    "    elif x == 'Miss':\n",
    "        return 1\n",
    "    elif x == 'Mrs':\n",
    "        return 2\n",
    "    elif x == 'Master':\n",
    "        return 3\n",
    "    elif x == 'Officer':\n",
    "        return 4\n",
    "    else:\n",
    "        return 5\n",
    "    \n",
    "def TicketSize(x):\n",
    "    if x == 1:\n",
    "        return 0\n",
    "    elif x < 5:\n",
    "        return 1\n",
    "    else:\n",
    "        return 2\n",
    "        \n",
    "\n",
    "# comma delimited is the default\n",
    "passengers = pd.read_csv(input_file, header = 0)\n",
    "\n",
    "passengers['Sex'] = passengers \\\n",
    "    .apply(lambda row: row['Sex'] == 'female', axis = 1).astype(int)\n",
    "\n",
    "passengers['Age'] = passengers['Age'].fillna(round(passengers['Age'].mean(), 2))\n",
    "\n",
    "passengers['AgeGroup'] = passengers['Age'].apply(lambda x: AgeGroup(x))\n",
    "\n",
    "passengers['Embarked'] = passengers['Embarked'] \\\n",
    "    .fillna(passengers['Embarked'].value_counts().idxmax())\n",
    "    \n",
    "passengers['Embarked'] = passengers['Embarked'] \\\n",
    "    .apply(lambda x: Embark(x)).astype(int)\n",
    "\n",
    "passengers['Title'] = passengers['Name'] \\\n",
    "    .replace(\"^.*, (.*?)\\\\..*$\", \"\\\\1\", regex = True) \\\n",
    "    .apply(lambda x: Title(x))\n",
    "\n",
    "passengers['FamilySize'] = passengers[['SibSp', 'Parch']] \\\n",
    "    .apply(lambda x: FamilySize(x['SibSp'] + x['Parch'] + 1), axis = 1)\n",
    "    \n",
    "passengers['TitleGroup'] = passengers['Title'].apply(lambda x: TitleGroup(x))\n",
    "\n",
    "passengers['TicketSize'] = passengers.groupby(['Ticket'])['Ticket'].transform('count')\n",
    "passengers['TicketSize'] = passengers['TicketSize'].apply(lambda x: TicketSize(x))\n",
    "\n",
    "pd.DataFrame.head(passengers, 5)"
   ]
  },
  {
   "cell_type": "markdown",
   "metadata": {},
   "source": [
    "## Dicision Tree Setup"
   ]
  },
  {
   "cell_type": "code",
   "execution_count": 2,
   "metadata": {},
   "outputs": [
    {
     "data": {
      "text/plain": [
       "DecisionTreeClassifier(class_weight=None, criterion='gini', max_depth=None,\n",
       "            max_features=None, max_leaf_nodes=None,\n",
       "            min_impurity_decrease=0.0, min_impurity_split=None,\n",
       "            min_samples_leaf=1, min_samples_split=2,\n",
       "            min_weight_fraction_leaf=0.0, presort=False, random_state=None,\n",
       "            splitter='best')"
      ]
     },
     "execution_count": 2,
     "metadata": {},
     "output_type": "execute_result"
    }
   ],
   "source": [
    "from sklearn.tree import DecisionTreeClassifier\n",
    "\n",
    "X = passengers[['Pclass', 'Sex', 'Embarked', 'AgeGroup', 'FamilySize', 'TitleGroup']]\n",
    "y = passengers['Survived']\n",
    "\n",
    "tree_clf = DecisionTreeClassifier()\n",
    "tree_clf.fit(X, y)"
   ]
  },
  {
   "cell_type": "markdown",
   "metadata": {},
   "source": [
    "## Create Decision Tree Graph"
   ]
  },
  {
   "cell_type": "code",
   "execution_count": 3,
   "metadata": {},
   "outputs": [],
   "source": [
    "from sklearn.tree import export_graphviz\n",
    "\n",
    "export_graphviz(\n",
    "    tree_clf,\n",
    "    out_file = 'survivor.dot',\n",
    "    feature_names = ['Pclass', 'Sex', 'Embarked', 'AgeGroup', 'FamilySize', 'TitleGroup'],\n",
    "    class_names = ['Perished', 'Survived'],\n",
    "    rounded = True,\n",
    "    filled = True\n",
    ")"
   ]
  },
  {
   "cell_type": "code",
   "execution_count": 4,
   "metadata": {},
   "outputs": [
    {
     "ename": "InvocationException",
     "evalue": "GraphViz's executables not found",
     "output_type": "error",
     "traceback": [
      "\u001b[0;31m---------------------------------------------------------------------------\u001b[0m",
      "\u001b[0;31mInvocationException\u001b[0m                       Traceback (most recent call last)",
      "\u001b[0;32m<ipython-input-4-fe0300da00ce>\u001b[0m in \u001b[0;36m<module>\u001b[0;34m()\u001b[0m\n\u001b[1;32m     33\u001b[0m )\n\u001b[1;32m     34\u001b[0m \u001b[0mgraph\u001b[0m \u001b[0;34m=\u001b[0m \u001b[0mpydotplus\u001b[0m\u001b[0;34m.\u001b[0m\u001b[0mgraph_from_dot_file\u001b[0m\u001b[0;34m(\u001b[0m\u001b[0;34m\"survivor.dot\"\u001b[0m\u001b[0;34m)\u001b[0m\u001b[0;34m\u001b[0m\u001b[0m\n\u001b[0;32m---> 35\u001b[0;31m \u001b[0mgraph\u001b[0m\u001b[0;34m.\u001b[0m\u001b[0mwrite_png\u001b[0m\u001b[0;34m(\u001b[0m\u001b[0;34m'survivor.png'\u001b[0m\u001b[0;34m)\u001b[0m\u001b[0;34m\u001b[0m\u001b[0m\n\u001b[0m\u001b[1;32m     36\u001b[0m \u001b[0mimg\u001b[0m \u001b[0;34m=\u001b[0m \u001b[0mmpimg\u001b[0m\u001b[0;34m.\u001b[0m\u001b[0mimread\u001b[0m\u001b[0;34m(\u001b[0m\u001b[0;34m'survivor.png'\u001b[0m\u001b[0;34m)\u001b[0m\u001b[0;34m\u001b[0m\u001b[0m\n\u001b[1;32m     37\u001b[0m \u001b[0mfig\u001b[0m \u001b[0;34m=\u001b[0m \u001b[0mplt\u001b[0m\u001b[0;34m.\u001b[0m\u001b[0mfigure\u001b[0m\u001b[0;34m(\u001b[0m\u001b[0mfigsize\u001b[0m\u001b[0;34m=\u001b[0m\u001b[0;34m(\u001b[0m\u001b[0;36m100\u001b[0m\u001b[0;34m,\u001b[0m \u001b[0;36m100\u001b[0m\u001b[0;34m)\u001b[0m\u001b[0;34m)\u001b[0m\u001b[0;34m\u001b[0m\u001b[0m\n",
      "\u001b[0;32m/usr/local/anaconda3/lib/python3.6/site-packages/pydotplus/graphviz.py\u001b[0m in \u001b[0;36m<lambda>\u001b[0;34m(path, f, prog)\u001b[0m\n\u001b[1;32m   1808\u001b[0m                 \u001b[0;32mlambda\u001b[0m \u001b[0mpath\u001b[0m\u001b[0;34m,\u001b[0m\u001b[0;34m\u001b[0m\u001b[0m\n\u001b[1;32m   1809\u001b[0m                 \u001b[0mf\u001b[0m\u001b[0;34m=\u001b[0m\u001b[0mfrmt\u001b[0m\u001b[0;34m,\u001b[0m\u001b[0;34m\u001b[0m\u001b[0m\n\u001b[0;32m-> 1810\u001b[0;31m                 \u001b[0mprog\u001b[0m\u001b[0;34m=\u001b[0m\u001b[0mself\u001b[0m\u001b[0;34m.\u001b[0m\u001b[0mprog\u001b[0m\u001b[0;34m:\u001b[0m \u001b[0mself\u001b[0m\u001b[0;34m.\u001b[0m\u001b[0mwrite\u001b[0m\u001b[0;34m(\u001b[0m\u001b[0mpath\u001b[0m\u001b[0;34m,\u001b[0m \u001b[0mformat\u001b[0m\u001b[0;34m=\u001b[0m\u001b[0mf\u001b[0m\u001b[0;34m,\u001b[0m \u001b[0mprog\u001b[0m\u001b[0;34m=\u001b[0m\u001b[0mprog\u001b[0m\u001b[0;34m)\u001b[0m\u001b[0;34m\u001b[0m\u001b[0m\n\u001b[0m\u001b[1;32m   1811\u001b[0m             )\n\u001b[1;32m   1812\u001b[0m \u001b[0;34m\u001b[0m\u001b[0m\n",
      "\u001b[0;32m/usr/local/anaconda3/lib/python3.6/site-packages/pydotplus/graphviz.py\u001b[0m in \u001b[0;36mwrite\u001b[0;34m(self, path, prog, format)\u001b[0m\n\u001b[1;32m   1916\u001b[0m \u001b[0;34m\u001b[0m\u001b[0m\n\u001b[1;32m   1917\u001b[0m             \u001b[0;32melse\u001b[0m\u001b[0;34m:\u001b[0m\u001b[0;34m\u001b[0m\u001b[0m\n\u001b[0;32m-> 1918\u001b[0;31m                 \u001b[0mfobj\u001b[0m\u001b[0;34m.\u001b[0m\u001b[0mwrite\u001b[0m\u001b[0;34m(\u001b[0m\u001b[0mself\u001b[0m\u001b[0;34m.\u001b[0m\u001b[0mcreate\u001b[0m\u001b[0;34m(\u001b[0m\u001b[0mprog\u001b[0m\u001b[0;34m,\u001b[0m \u001b[0mformat\u001b[0m\u001b[0;34m)\u001b[0m\u001b[0;34m)\u001b[0m\u001b[0;34m\u001b[0m\u001b[0m\n\u001b[0m\u001b[1;32m   1919\u001b[0m         \u001b[0;32mfinally\u001b[0m\u001b[0;34m:\u001b[0m\u001b[0;34m\u001b[0m\u001b[0m\n\u001b[1;32m   1920\u001b[0m             \u001b[0;32mif\u001b[0m \u001b[0mclose\u001b[0m\u001b[0;34m:\u001b[0m\u001b[0;34m\u001b[0m\u001b[0m\n",
      "\u001b[0;32m/usr/local/anaconda3/lib/python3.6/site-packages/pydotplus/graphviz.py\u001b[0m in \u001b[0;36mcreate\u001b[0;34m(self, prog, format)\u001b[0m\n\u001b[1;32m   1958\u001b[0m             \u001b[0;32mif\u001b[0m \u001b[0mself\u001b[0m\u001b[0;34m.\u001b[0m\u001b[0mprogs\u001b[0m \u001b[0;32mis\u001b[0m \u001b[0;32mNone\u001b[0m\u001b[0;34m:\u001b[0m\u001b[0;34m\u001b[0m\u001b[0m\n\u001b[1;32m   1959\u001b[0m                 raise InvocationException(\n\u001b[0;32m-> 1960\u001b[0;31m                     'GraphViz\\'s executables not found')\n\u001b[0m\u001b[1;32m   1961\u001b[0m \u001b[0;34m\u001b[0m\u001b[0m\n\u001b[1;32m   1962\u001b[0m         \u001b[0;32mif\u001b[0m \u001b[0mprog\u001b[0m \u001b[0;32mnot\u001b[0m \u001b[0;32min\u001b[0m \u001b[0mself\u001b[0m\u001b[0;34m.\u001b[0m\u001b[0mprogs\u001b[0m\u001b[0;34m:\u001b[0m\u001b[0;34m\u001b[0m\u001b[0m\n",
      "\u001b[0;31mInvocationException\u001b[0m: GraphViz's executables not found"
     ]
    }
   ],
   "source": [
    "from io import StringIO\n",
    "from sklearn import tree\n",
    "\n",
    "# To plot pretty figures\n",
    "%matplotlib inline\n",
    "import matplotlib\n",
    "import matplotlib.pyplot as plt\n",
    "\n",
    "#from graphviz import *\n",
    "\n",
    "import matplotlib.image as mpimg\n",
    "import pydotplus\n",
    "\n",
    "classifier = tree_clf\n",
    "dotfile = open(\"survivor.dot\", 'w')\n",
    "tree.export_graphviz(\n",
    "    classifier,\n",
    "    out_file = dotfile,\n",
    "    feature_names = ['Pclass', 'Sex', 'Embarked', 'AgeGroup', 'FamilySize', 'TitleGroup'],\n",
    "    class_names = ['Perished', 'Survived'],\n",
    "    rounded = True,\n",
    "    filled = True\n",
    ")\n",
    "dotfile.close()\n",
    "dot_data = StringIO()\n",
    "tree.export_graphviz(\n",
    "    classifier,\n",
    "    out_file = dot_data,\n",
    "    feature_names = ['Pclass', 'Sex', 'Embarked', 'AgeGroup', 'FamilySize', 'TitleGroup'],\n",
    "    class_names = ['Perished', 'Survived'],\n",
    "    rounded = True,\n",
    "    filled = True\n",
    ")\n",
    "graph = pydotplus.graph_from_dot_file(\"survivor.dot\")\n",
    "graph.write_png('survivor.png')\n",
    "img = mpimg.imread('survivor.png')\n",
    "fig = plt.figure(figsize=(100, 100)) \n",
    "plt.axis(\"off\")\n",
    "plt.imshow(img, cmap = plt.cm.binary, interpolation=\"nearest\")\n",
    "plt.show()"
   ]
  },
  {
   "cell_type": "markdown",
   "metadata": {},
   "source": [
    "## Test Data Scrubbing"
   ]
  },
  {
   "cell_type": "code",
   "execution_count": null,
   "metadata": {},
   "outputs": [],
   "source": [
    "input_test_file = \"./test.csv\"\n",
    "\n",
    "def AgeGroup(x):\n",
    "    if x < 13:\n",
    "        return 0\n",
    "    elif x < 18:\n",
    "        return 1\n",
    "    elif x < 60:\n",
    "        return 2\n",
    "    else:\n",
    "        return 3\n",
    "\n",
    "def Embark(x):\n",
    "    if x == 'S':\n",
    "        return 0\n",
    "    elif x == 'C':\n",
    "        return 1\n",
    "    elif x == 'Q':\n",
    "        return 2\n",
    "    else:\n",
    "        return x\n",
    "    \n",
    "def FamilySize(x):\n",
    "    if x == 1:\n",
    "        return 0\n",
    "    elif x < 5:\n",
    "        return 1\n",
    "    else:\n",
    "        return 2\n",
    "    \n",
    "def Title(x):\n",
    "    if x == 'Mlle':\n",
    "        return 'Miss'\n",
    "    elif x == 'Ms':\n",
    "        return 'Miss'\n",
    "    elif x == 'Mme':\n",
    "        return 'Mrs'\n",
    "    elif x == 'Lady':\n",
    "        return 'Miss'\n",
    "    elif x  == 'Dona':\n",
    "        return 'Miss'\n",
    "    elif x  == 'Capt':\n",
    "        return 'Officer'\n",
    "    elif x == 'Col':\n",
    "        return 'Officer'\n",
    "    elif x == 'Major':\n",
    "        return 'Officer'\n",
    "    elif x == 'Dr':\n",
    "        return 'Officer'\n",
    "    elif x == 'Rev':\n",
    "        return 'Officer'\n",
    "    elif x == 'Don':\n",
    "        return 'Officer'\n",
    "    elif x == 'Sir':\n",
    "        return 'Officer'\n",
    "    elif x == 'the Countess':\n",
    "        return 'Officer'\n",
    "    elif x == 'Jonkheer':\n",
    "        return 'Officer'\n",
    "    else:\n",
    "        return x\n",
    "    \n",
    "def TitleGroup(x):\n",
    "    if x == 'Mr':\n",
    "        return 0\n",
    "    elif x == 'Miss':\n",
    "        return 1\n",
    "    elif x == 'Mrs':\n",
    "        return 2\n",
    "    elif x == 'Master':\n",
    "        return 3\n",
    "    elif x == 'Officer':\n",
    "        return 4\n",
    "    else:\n",
    "        return 5\n",
    "        \n",
    "def TicketSize(x):\n",
    "    if x == 1:\n",
    "        return 0\n",
    "    elif x < 5:\n",
    "        return 1\n",
    "    else:\n",
    "        return 2\n",
    "        \n",
    "# comma delimited is the default\n",
    "test_passengers = pd.read_csv(input_test_file, header = 0)\n",
    "\n",
    "test_passengers['Sex'] = test_passengers \\\n",
    "    .apply(lambda row: row['Sex'] == 'female', axis = 1).astype(int)\n",
    "\n",
    "test_passengers['Age'] = test_passengers['Age'] \\\n",
    "    .fillna(round(test_passengers['Age'].mean(), 2))\n",
    "\n",
    "test_passengers['AgeGroup'] = test_passengers['Age'].apply(lambda x: AgeGroup(x))\n",
    "\n",
    "test_passengers['Embarked'] = test_passengers['Embarked'] \\\n",
    "    .fillna(test_passengers['Embarked'].value_counts().idxmax())\n",
    "    \n",
    "test_passengers['Embarked'] = test_passengers['Embarked'] \\\n",
    "    .apply(lambda x: Embark(x)).astype(int)\n",
    "\n",
    "test_passengers['Title'] = test_passengers['Name'] \\\n",
    "    .replace(\"^.*, (.*?)\\\\..*$\", \"\\\\1\", regex = True) \\\n",
    "    .apply(lambda x: Title(x))\n",
    "\n",
    "test_passengers['FamilySize'] = test_passengers[['SibSp', 'Parch']] \\\n",
    "    .apply(lambda x: FamilySize(x['SibSp'] + x['Parch'] + 1), axis = 1)\n",
    "    \n",
    "test_passengers['TitleGroup'] = test_passengers['Title'].apply(lambda x: TitleGroup(x))\n",
    "\n",
    "test_passengers['TicketSize'] = test_passengers \\\n",
    "    .groupby(['Ticket'])['Ticket'].transform('count')\n",
    "test_passengers['TicketSize'] = test_passengers['TicketSize'].apply(lambda x: TicketSize(x))\n",
    "\n",
    "pd.DataFrame.head(test_passengers, 5)"
   ]
  },
  {
   "cell_type": "markdown",
   "metadata": {},
   "source": [
    "## Predict Probability of Survival for Test Data"
   ]
  },
  {
   "cell_type": "code",
   "execution_count": null,
   "metadata": {},
   "outputs": [],
   "source": [
    "tree_clf.predict_proba(test_passengers[['Pclass', 'Sex', 'Embarked', 'AgeGroup', 'FamilySize', 'TitleGroup']])[:10]"
   ]
  },
  {
   "cell_type": "code",
   "execution_count": null,
   "metadata": {},
   "outputs": [],
   "source": [
    "test_passengers['Survived'] = tree_clf \\\n",
    "    .predict(test_passengers[['Pclass', 'Sex', 'Embarked', 'AgeGroup', 'FamilySize', 'TitleGroup']])"
   ]
  },
  {
   "cell_type": "markdown",
   "metadata": {},
   "source": [
    "## Export Prediction to CSV File"
   ]
  },
  {
   "cell_type": "code",
   "execution_count": null,
   "metadata": {
    "scrolled": true
   },
   "outputs": [],
   "source": [
    "test_passengers[['PassengerId', 'Survived']] \\\n",
    "    .to_csv('test_(Pclass_Sex_Embarked_AgeGroup_FamilySize_TitleGroup)_results.csv', sep=',', index = False, encoding='utf-8')\n",
    "pd.DataFrame.head(test_passengers)"
   ]
  },
  {
   "cell_type": "markdown",
   "metadata": {},
   "source": [
    "## Data Scrubbing"
   ]
  },
  {
   "cell_type": "code",
   "execution_count": null,
   "metadata": {},
   "outputs": [],
   "source": [
    "import numpy as np\n",
    "import pandas as pd\n",
    "\n",
    "input_file = \"./train.csv\"\n",
    "\n",
    "def AgeGroup(x):\n",
    "    if x < 13:\n",
    "        return 0\n",
    "    elif x < 18:\n",
    "        return 1\n",
    "    elif x < 60:\n",
    "        return 2\n",
    "    else:\n",
    "        return 3\n",
    "\n",
    "def Embark(x):\n",
    "    if x == 'S':\n",
    "        return 0\n",
    "    elif x == 'C':\n",
    "        return 1\n",
    "    elif x == 'Q':\n",
    "        return 2\n",
    "    else:\n",
    "        return x\n",
    "    \n",
    "def FamilySize(x):\n",
    "    if x == 1:\n",
    "        return 0\n",
    "    elif x < 5:\n",
    "        return 1\n",
    "    else:\n",
    "        return 2\n",
    "    \n",
    "def Title(x):\n",
    "    if x == 'Mlle':\n",
    "        return 'Miss'\n",
    "    elif x == 'Ms':\n",
    "        return 'Miss'\n",
    "    elif x == 'Mme':\n",
    "        return 'Mrs'\n",
    "    elif x == 'Lady':\n",
    "        return 'Miss'\n",
    "    elif x  == 'Dona':\n",
    "        return 'Miss'\n",
    "    elif x  == 'Capt':\n",
    "        return 'Officer'\n",
    "    elif x == 'Col':\n",
    "        return 'Officer'\n",
    "    elif x == 'Major':\n",
    "        return 'Officer'\n",
    "    elif x == 'Dr':\n",
    "        return 'Officer'\n",
    "    elif x == 'Rev':\n",
    "        return 'Officer'\n",
    "    elif x == 'Don':\n",
    "        return 'Officer'\n",
    "    elif x == 'Sir':\n",
    "        return 'Officer'\n",
    "    elif x == 'the Countess':\n",
    "        return 'Officer'\n",
    "    elif x == 'Jonkheer':\n",
    "        return 'Officer'\n",
    "    else:\n",
    "        return x\n",
    "    \n",
    "def TitleGroup(x):\n",
    "    if x == 'Mr':\n",
    "        return 0\n",
    "    elif x == 'Miss':\n",
    "        return 1\n",
    "    elif x == 'Mrs':\n",
    "        return 2\n",
    "    elif x == 'Master':\n",
    "        return 3\n",
    "    elif x == 'Officer':\n",
    "        return 4\n",
    "    else:\n",
    "        return 5\n",
    "    \n",
    "def TicketSize(x):\n",
    "    if x == 1:\n",
    "        return 0\n",
    "    elif x < 5:\n",
    "        return 1\n",
    "    else:\n",
    "        return 2\n",
    "        \n",
    "\n",
    "# comma delimited is the default\n",
    "passengers = pd.read_csv(input_file, header = 0)\n",
    "\n",
    "passengers['Sex'] = passengers \\\n",
    "    .apply(lambda row: row['Sex'] == 'female', axis = 1).astype(int)\n",
    "\n",
    "passengers['Age'] = passengers['Age'].fillna(round(passengers['Age'].mean(), 2))\n",
    "\n",
    "passengers['AgeGroup'] = passengers['Age'].apply(lambda x: AgeGroup(x))\n",
    "\n",
    "passengers['Embarked'] = passengers['Embarked'] \\\n",
    "    .fillna(passengers['Embarked'].value_counts().idxmax())\n",
    "    \n",
    "passengers['Embarked'] = passengers['Embarked'] \\\n",
    "    .apply(lambda x: Embark(x)).astype(int)\n",
    "\n",
    "passengers['Title'] = passengers['Name'] \\\n",
    "    .replace(\"^.*, (.*?)\\\\..*$\", \"\\\\1\", regex = True) \\\n",
    "    .apply(lambda x: Title(x))\n",
    "\n",
    "passengers['FamilySize'] = passengers[['SibSp', 'Parch']] \\\n",
    "    .apply(lambda x: FamilySize(x['SibSp'] + x['Parch'] + 1), axis = 1)\n",
    "    \n",
    "passengers['TitleGroup'] = passengers['Title'].apply(lambda x: TitleGroup(x))\n",
    "\n",
    "passengers['TicketSize'] = passengers.groupby(['Ticket'])['Ticket'].transform('count')\n",
    "passengers['TicketSize'] = passengers['TicketSize'].apply(lambda x: TicketSize(x))\n",
    "\n",
    "pd.DataFrame.head(passengers, 5)"
   ]
  },
  {
   "cell_type": "markdown",
   "metadata": {},
   "source": [
    "## Stochastic Gradient Descent"
   ]
  },
  {
   "cell_type": "markdown",
   "metadata": {},
   "source": [
    "### Load train file into a Panda DataFrame"
   ]
  },
  {
   "cell_type": "code",
   "execution_count": null,
   "metadata": {},
   "outputs": [],
   "source": [
    "import numpy as np\n",
    "import pandas as pd\n",
    "\n",
    "input_file = \"./Sample/train.csv\"\n",
    "mnist = pd.read_csv(input_file, header = 0)\n",
    "\n",
    "pd.DataFrame.head(mnist, 10)"
   ]
  },
  {
   "cell_type": "markdown",
   "metadata": {},
   "source": [
    "### Separate mnist into two variables"
   ]
  },
  {
   "cell_type": "code",
   "execution_count": null,
   "metadata": {},
   "outputs": [],
   "source": [
    "X, y = mnist.iloc[0:, 1:], mnist.iloc[0:,0]\n",
    "\n",
    "print(X.shape)\n",
    "print(y.shape)"
   ]
  },
  {
   "cell_type": "markdown",
   "metadata": {},
   "source": [
    "### Print an image of the first row in mnist"
   ]
  },
  {
   "cell_type": "code",
   "execution_count": null,
   "metadata": {},
   "outputs": [],
   "source": [
    "%matplotlib inline\n",
    "import matplotlib\n",
    "import matplotlib.pyplot as plt\n",
    "\n",
    "some_digit = X.iloc[0,:]\n",
    "some_digit_image = some_digit.values.reshape(28, 28)\n",
    "\n",
    "plt.imshow(some_digit_image, cmap = matplotlib.cm.binary, interpolation=\"nearest\")\n",
    "plt.axis(\"off\")\n",
    "plt.show()"
   ]
  },
  {
   "cell_type": "markdown",
   "metadata": {},
   "source": [
    "### Split the mnist training data into a training and testing set"
   ]
  },
  {
   "cell_type": "code",
   "execution_count": null,
   "metadata": {},
   "outputs": [],
   "source": [
    "X_train, X_test, y_train, y_test = X.iloc[:32000, :], X.iloc[32000:, :], y.iloc[:32000], y.iloc[32000:]"
   ]
  },
  {
   "cell_type": "markdown",
   "metadata": {},
   "source": [
    "### Change the lables to true/false when the label equals five"
   ]
  },
  {
   "cell_type": "code",
   "execution_count": null,
   "metadata": {},
   "outputs": [],
   "source": [
    "y_train_5 = (y_train == 5)\n",
    "y_test_5 = (y_test == 5)"
   ]
  },
  {
   "cell_type": "markdown",
   "metadata": {},
   "source": [
    "### Create the SGD Classifier and fit/train it"
   ]
  },
  {
   "cell_type": "code",
   "execution_count": null,
   "metadata": {},
   "outputs": [],
   "source": [
    "from sklearn.linear_model import SGDClassifier\n",
    "\n",
    "sgd_clf = SGDClassifier(random_state = 42)\n",
    "sgd_clf.fit(X_train, y_train_5)"
   ]
  },
  {
   "cell_type": "markdown",
   "metadata": {},
   "source": [
    "### Print an image of a row in the test set that is a five"
   ]
  },
  {
   "cell_type": "code",
   "execution_count": null,
   "metadata": {},
   "outputs": [],
   "source": [
    "some_digit = X_test.iloc[17,:]\n",
    "some_digit_image = some_digit.values.reshape(28, 28)\n",
    "\n",
    "plt.imshow(some_digit_image, cmap = matplotlib.cm.binary, interpolation=\"nearest\")\n",
    "plt.axis(\"off\")\n",
    "plt.show()"
   ]
  },
  {
   "cell_type": "markdown",
   "metadata": {},
   "source": [
    "### Check to see if SGD predicts five for a row in the test that is a five"
   ]
  },
  {
   "cell_type": "code",
   "execution_count": null,
   "metadata": {},
   "outputs": [],
   "source": [
    "sgd_clf.predict([X_test.iloc[17,:]])"
   ]
  },
  {
   "cell_type": "markdown",
   "metadata": {},
   "source": [
    "### Retrain SGD with full train set"
   ]
  },
  {
   "cell_type": "code",
   "execution_count": null,
   "metadata": {},
   "outputs": [],
   "source": [
    "sgd_clf.fit(X, y)"
   ]
  },
  {
   "cell_type": "markdown",
   "metadata": {},
   "source": [
    "### Load test file into a Panda DataFrame"
   ]
  },
  {
   "cell_type": "code",
   "execution_count": null,
   "metadata": {},
   "outputs": [],
   "source": [
    "test_input_file = \"./Sample/test.csv\"\n",
    "test_mnist = pd.read_csv(test_input_file, header = 0)\n",
    "\n",
    "pd.DataFrame.head(test_mnist, 10)"
   ]
  },
  {
   "cell_type": "markdown",
   "metadata": {},
   "source": [
    "### Predict the the values for the test set and save the results"
   ]
  },
  {
   "cell_type": "code",
   "execution_count": null,
   "metadata": {},
   "outputs": [],
   "source": [
    "results = sgd_clf.predict(test_mnist)\n",
    "results"
   ]
  },
  {
   "cell_type": "markdown",
   "metadata": {},
   "source": [
    "### Create an image of the first row of the test set to verify the SGD predicted correctly"
   ]
  },
  {
   "cell_type": "code",
   "execution_count": null,
   "metadata": {},
   "outputs": [],
   "source": [
    "some_digit = test_mnist.iloc[0,:]\n",
    "some_digit_image = some_digit.values.reshape(28, 28)\n",
    "\n",
    "plt.imshow(some_digit_image, cmap = matplotlib.cm.binary, interpolation=\"nearest\")\n",
    "plt.axis(\"off\")\n",
    "plt.show()"
   ]
  },
  {
   "cell_type": "markdown",
   "metadata": {},
   "source": [
    "### Export results to CSV to be uploaded to Kaggle"
   ]
  },
  {
   "cell_type": "code",
   "execution_count": null,
   "metadata": {},
   "outputs": [],
   "source": [
    "row = range(1, results.size + 1)\n",
    "result_df = pd.DataFrame({\n",
    "    'ImageId': row,\n",
    "    'Label': results\n",
    "})\n",
    "\n",
    "result_df[['ImageId', 'Label']].to_csv('./sgd_results.csv', sep=',', index = False, encoding='utf-8')"
   ]
  },
  {
   "cell_type": "code",
   "execution_count": null,
   "metadata": {},
   "outputs": [],
   "source": [
    "f"
   ]
  }
 ],
 "metadata": {
  "kernelspec": {
   "display_name": "Python 3",
   "language": "python",
   "name": "python3"
  },
  "language_info": {
   "codemirror_mode": {
    "name": "ipython",
    "version": 3
   },
   "file_extension": ".py",
   "mimetype": "text/x-python",
   "name": "python",
   "nbconvert_exporter": "python",
   "pygments_lexer": "ipython3",
   "version": "3.6.4"
  }
 },
 "nbformat": 4,
 "nbformat_minor": 2
}
